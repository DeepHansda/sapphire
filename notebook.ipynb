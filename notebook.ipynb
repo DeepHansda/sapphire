{
 "cells": [
  {
   "cell_type": "code",
   "execution_count": null,
   "metadata": {},
   "outputs": [],
   "source": [
    "pwd = %pwd\n",
    "current_working_dir = f\"{pwd}\"\n",
    "%cd {current_working_dir}"
   ]
  },
  {
   "cell_type": "markdown",
   "metadata": {},
   "source": [
    "<h1>install packages for backend</h1>"
   ]
  },
  {
   "cell_type": "code",
   "execution_count": null,
   "metadata": {},
   "outputs": [],
   "source": [
    "# install packages for backend\n",
    "\n",
    "%cd {current_working_dir+\"/backend\"}\n",
    "!pip install -r requirements.txt\n",
    "# %cd {current_working_dir+\"backend/\"}"
   ]
  },
  {
   "cell_type": "markdown",
   "metadata": {},
   "source": [
    "<h1>install packages for frontend</h2>"
   ]
  },
  {
   "cell_type": "code",
   "execution_count": null,
   "metadata": {},
   "outputs": [],
   "source": [
    "%cd {current_working_dir+\"/frontend\"}\n",
    "!npm install"
   ]
  },
  {
   "cell_type": "code",
   "execution_count": null,
   "metadata": {},
   "outputs": [],
   "source": [
    "!wget -h"
   ]
  },
  {
   "cell_type": "code",
   "execution_count": null,
   "metadata": {},
   "outputs": [],
   "source": [
    "# !wget -c \"https://huggingface.co/Lykon/DreamShaper/resolve/main/DreamShaper_8_pruned.safetensors\" -P \"/kaggle/working/sapphire/src/models/checkpoints\""
   ]
  },
  {
   "cell_type": "code",
   "execution_count": null,
   "metadata": {},
   "outputs": [],
   "source": [
    "# !wget -c \"https://huggingface.co/imagepipeline/Studio-Ghibli-Style/resolve/main/81c5adfd-3dc1-4718-aeb9-35e3c9413afa.safetensors\" -O \"/kaggle/working/sapphire/src/models/loras/ghibli_style_offset.safetensors\""
   ]
  },
  {
   "cell_type": "markdown",
   "metadata": {},
   "source": []
  },
  {
   "cell_type": "code",
   "execution_count": null,
   "metadata": {},
   "outputs": [],
   "source": [
    "# !wget -c \"https://huggingface.co/stabilityai/sd-vae-ft-ema-original/resolve/main/vae-ft-ema-560000-ema-pruned.safetensors\" -P \"/kaggle/working/sapphire/src/models/vae\""
   ]
  },
  {
   "cell_type": "code",
   "execution_count": null,
   "metadata": {},
   "outputs": [],
   "source": [
    "!git config --global user.email \"deephansda921@gmail.com\"\n",
    "!git config --global user.name \"DeepHansda\""
   ]
  },
  {
   "cell_type": "code",
   "execution_count": null,
   "metadata": {},
   "outputs": [],
   "source": [
    "from PIL import Image,ImageOps\n",
    "size = (500,500)\n",
    "img_path = \"/kaggle/working/sapphire/backend/src/input/myself.jpg\"\n",
    "in_image: Image.Image = Image.open((img_path), mode=\"r\")\n",
    "in_image = ImageOps.exif_transpose(in_image)\n",
    "# in_image = in_image.resize(size)\n",
    "in_image = ImageOps.fit(in_image, size)\n",
    "\n",
    "in_image"
   ]
  }
 ],
 "metadata": {
  "kernelspec": {
   "display_name": "Python 3",
   "language": "python",
   "name": "python3"
  },
  "language_info": {
   "codemirror_mode": {
    "name": "ipython",
    "version": 3
   },
   "file_extension": ".py",
   "mimetype": "text/x-python",
   "name": "python",
   "nbconvert_exporter": "python",
   "pygments_lexer": "ipython3",
   "version": "3.10.0"
  }
 },
 "nbformat": 4,
 "nbformat_minor": 2
}
